{
 "cells": [
  {
   "cell_type": "code",
   "execution_count": 44,
   "metadata": {},
   "outputs": [],
   "source": [
    "from neo4j import GraphDatabase\n",
    "import json\n",
    "import pandas as pd\n"
   ]
  },
  {
   "cell_type": "code",
   "execution_count": 45,
   "metadata": {},
   "outputs": [
    {
     "data": {
      "text/html": [
       "<div>\n",
       "<style scoped>\n",
       "    .dataframe tbody tr th:only-of-type {\n",
       "        vertical-align: middle;\n",
       "    }\n",
       "\n",
       "    .dataframe tbody tr th {\n",
       "        vertical-align: top;\n",
       "    }\n",
       "\n",
       "    .dataframe thead th {\n",
       "        text-align: right;\n",
       "    }\n",
       "</style>\n",
       "<table border=\"1\" class=\"dataframe\">\n",
       "  <thead>\n",
       "    <tr style=\"text-align: right;\">\n",
       "      <th></th>\n",
       "      <th>case_number</th>\n",
       "      <th>date_delivered</th>\n",
       "      <th>judges</th>\n",
       "      <th>court</th>\n",
       "      <th>parties</th>\n",
       "      <th>advocates</th>\n",
       "      <th>citation</th>\n",
       "      <th>title</th>\n",
       "      <th>file_page_url</th>\n",
       "      <th>file_download_url</th>\n",
       "    </tr>\n",
       "  </thead>\n",
       "  <tbody>\n",
       "    <tr>\n",
       "      <th>0</th>\n",
       "      <td>Environment &amp; Land Case 860 of 2017</td>\n",
       "      <td>29 Dec 2023</td>\n",
       "      <td>[Mohammed Noor Kullow]</td>\n",
       "      <td>Environment and Land Court at Migori</td>\n",
       "      <td>[Nyamanga, Makabongo &amp; 2 others]</td>\n",
       "      <td>[]</td>\n",
       "      <td>Nyamanga v Makabongo &amp; 2 others (Environment &amp;...</td>\n",
       "      <td>Nyamanga V Makabongo &amp; 2 Others (Environment &amp;...</td>\n",
       "      <td>http://kenyalaw.org/caselaw/caselawreport/?id=...</td>\n",
       "      <td>http://kenyalaw.org/caselaw/cases/export/28205...</td>\n",
       "    </tr>\n",
       "    <tr>\n",
       "      <th>1</th>\n",
       "      <td>Environment &amp; Land Case 011 of 2022</td>\n",
       "      <td>21 Dec 2023</td>\n",
       "      <td>[Joseph Mugo Kamau]</td>\n",
       "      <td>Environment and Land Court at Nyamira</td>\n",
       "      <td>[Kamau &amp; 2 others, Kamau &amp; 6 others]</td>\n",
       "      <td>[]</td>\n",
       "      <td>Kamau &amp; 2 others v Kamau &amp; 6 others (Environme...</td>\n",
       "      <td>Kamau &amp; 2 Others V Kamau &amp; 6 Others (Environme...</td>\n",
       "      <td>http://kenyalaw.org/caselaw/caselawreport/?id=...</td>\n",
       "      <td>http://kenyalaw.org/caselaw/cases/export/27687...</td>\n",
       "    </tr>\n",
       "    <tr>\n",
       "      <th>2</th>\n",
       "      <td>Environment and Land Judicial Review Miscellan...</td>\n",
       "      <td>19 Dec 2023</td>\n",
       "      <td>[Maxwell Nduiga Gicheru]</td>\n",
       "      <td>Environment and Land Court at Kajiado</td>\n",
       "      <td>[Marigi, National Land Commission]</td>\n",
       "      <td>[]</td>\n",
       "      <td>Marigi v National Land Commission (Environment...</td>\n",
       "      <td>Marigi V National Land Commission (Environment...</td>\n",
       "      <td>http://kenyalaw.org/caselaw/caselawreport/?id=...</td>\n",
       "      <td>http://kenyalaw.org/caselaw/cases/export/27675...</td>\n",
       "    </tr>\n",
       "    <tr>\n",
       "      <th>3</th>\n",
       "      <td>Environment &amp; Land Case 160 of 2018</td>\n",
       "      <td>18 Dec 2023</td>\n",
       "      <td>[Maxwell Nduiga Gicheru]</td>\n",
       "      <td>Environment and Land Court at Kajiado</td>\n",
       "      <td>[Kenzi &amp; 8 others, Kaipoon &amp; 5 others]</td>\n",
       "      <td>[]</td>\n",
       "      <td>Kenzi &amp; 8 others v Kaipoon &amp; 5 others (Environ...</td>\n",
       "      <td>Kenzi &amp; 8 Others V Kaipoon &amp; 5 Others (Environ...</td>\n",
       "      <td>http://kenyalaw.org/caselaw/caselawreport/?id=...</td>\n",
       "      <td>http://kenyalaw.org/caselaw/cases/export/27655...</td>\n",
       "    </tr>\n",
       "    <tr>\n",
       "      <th>4</th>\n",
       "      <td>Environment &amp; Land Case 161 of 2017</td>\n",
       "      <td>18 Dec 2023</td>\n",
       "      <td>[Boaz Nathan Olao]</td>\n",
       "      <td>Environment and Land Court at Busia</td>\n",
       "      <td>[Awori, Kubadi &amp; another]</td>\n",
       "      <td>[]</td>\n",
       "      <td>Awori v Kubadi &amp; another (Environment &amp; Land C...</td>\n",
       "      <td>Awori V Kubadi &amp; Another (Environment &amp; Land C...</td>\n",
       "      <td>http://kenyalaw.org/caselaw/caselawreport/?id=...</td>\n",
       "      <td>http://kenyalaw.org/caselaw/cases/export/27646...</td>\n",
       "    </tr>\n",
       "  </tbody>\n",
       "</table>\n",
       "</div>"
      ],
      "text/plain": [
       "                                         case_number date_delivered  \\\n",
       "0                Environment & Land Case 860 of 2017    29 Dec 2023   \n",
       "1                Environment & Land Case 011 of 2022    21 Dec 2023   \n",
       "2  Environment and Land Judicial Review Miscellan...    19 Dec 2023   \n",
       "3                Environment & Land Case 160 of 2018    18 Dec 2023   \n",
       "4                Environment & Land Case 161 of 2017    18 Dec 2023   \n",
       "\n",
       "                     judges                                  court  \\\n",
       "0    [Mohammed Noor Kullow]   Environment and Land Court at Migori   \n",
       "1       [Joseph Mugo Kamau]  Environment and Land Court at Nyamira   \n",
       "2  [Maxwell Nduiga Gicheru]  Environment and Land Court at Kajiado   \n",
       "3  [Maxwell Nduiga Gicheru]  Environment and Land Court at Kajiado   \n",
       "4        [Boaz Nathan Olao]    Environment and Land Court at Busia   \n",
       "\n",
       "                                  parties advocates  \\\n",
       "0        [Nyamanga, Makabongo & 2 others]        []   \n",
       "1    [Kamau & 2 others, Kamau & 6 others]        []   \n",
       "2      [Marigi, National Land Commission]        []   \n",
       "3  [Kenzi & 8 others, Kaipoon & 5 others]        []   \n",
       "4               [Awori, Kubadi & another]        []   \n",
       "\n",
       "                                            citation  \\\n",
       "0  Nyamanga v Makabongo & 2 others (Environment &...   \n",
       "1  Kamau & 2 others v Kamau & 6 others (Environme...   \n",
       "2  Marigi v National Land Commission (Environment...   \n",
       "3  Kenzi & 8 others v Kaipoon & 5 others (Environ...   \n",
       "4  Awori v Kubadi & another (Environment & Land C...   \n",
       "\n",
       "                                               title  \\\n",
       "0  Nyamanga V Makabongo & 2 Others (Environment &...   \n",
       "1  Kamau & 2 Others V Kamau & 6 Others (Environme...   \n",
       "2  Marigi V National Land Commission (Environment...   \n",
       "3  Kenzi & 8 Others V Kaipoon & 5 Others (Environ...   \n",
       "4  Awori V Kubadi & Another (Environment & Land C...   \n",
       "\n",
       "                                       file_page_url  \\\n",
       "0  http://kenyalaw.org/caselaw/caselawreport/?id=...   \n",
       "1  http://kenyalaw.org/caselaw/caselawreport/?id=...   \n",
       "2  http://kenyalaw.org/caselaw/caselawreport/?id=...   \n",
       "3  http://kenyalaw.org/caselaw/caselawreport/?id=...   \n",
       "4  http://kenyalaw.org/caselaw/caselawreport/?id=...   \n",
       "\n",
       "                                   file_download_url  \n",
       "0  http://kenyalaw.org/caselaw/cases/export/28205...  \n",
       "1  http://kenyalaw.org/caselaw/cases/export/27687...  \n",
       "2  http://kenyalaw.org/caselaw/cases/export/27675...  \n",
       "3  http://kenyalaw.org/caselaw/cases/export/27655...  \n",
       "4  http://kenyalaw.org/caselaw/cases/export/27646...  "
      ]
     },
     "execution_count": 45,
     "metadata": {},
     "output_type": "execute_result"
    }
   ],
   "source": [
    "file = \"../data/files/land disputes/land disputes.json\"\n",
    "with open(file, 'r') as f:\n",
    "    data = json.load(f)\n",
    "\n",
    "df = pd.DataFrame(data['land disputes']['cases'])\n",
    "df.head()"
   ]
  },
  {
   "cell_type": "code",
   "execution_count": 46,
   "metadata": {},
   "outputs": [],
   "source": [
    "duplicates = df[df.duplicated('case_number')]"
   ]
  },
  {
   "cell_type": "code",
   "execution_count": 47,
   "metadata": {},
   "outputs": [
    {
     "data": {
      "text/html": [
       "<div>\n",
       "<style scoped>\n",
       "    .dataframe tbody tr th:only-of-type {\n",
       "        vertical-align: middle;\n",
       "    }\n",
       "\n",
       "    .dataframe tbody tr th {\n",
       "        vertical-align: top;\n",
       "    }\n",
       "\n",
       "    .dataframe thead th {\n",
       "        text-align: right;\n",
       "    }\n",
       "</style>\n",
       "<table border=\"1\" class=\"dataframe\">\n",
       "  <thead>\n",
       "    <tr style=\"text-align: right;\">\n",
       "      <th></th>\n",
       "      <th>case_number</th>\n",
       "      <th>date_delivered</th>\n",
       "      <th>judges</th>\n",
       "      <th>court</th>\n",
       "      <th>parties</th>\n",
       "      <th>advocates</th>\n",
       "      <th>citation</th>\n",
       "      <th>title</th>\n",
       "      <th>file_page_url</th>\n",
       "      <th>file_download_url</th>\n",
       "    </tr>\n",
       "  </thead>\n",
       "  <tbody>\n",
       "    <tr>\n",
       "      <th>132</th>\n",
       "      <td>Environment and Land Appeal E002 of 2022</td>\n",
       "      <td>27 Jul 2023</td>\n",
       "      <td>[Lucy Nyambura Gacheru]</td>\n",
       "      <td>Environment and Land Court at Muranga</td>\n",
       "      <td>[Waweru (Suing as the Legal Representative of ...</td>\n",
       "      <td>[]</td>\n",
       "      <td>Waweru (Suing as the Legal Representative of t...</td>\n",
       "      <td>Waweru (Suing As The Legal Representative Of T...</td>\n",
       "      <td>http://kenyalaw.org/caselaw/caselawreport/?id=...</td>\n",
       "      <td>http://kenyalaw.org/caselaw/cases/export/26478...</td>\n",
       "    </tr>\n",
       "    <tr>\n",
       "      <th>149</th>\n",
       "      <td>Environment &amp; Land Case 1 of 2023</td>\n",
       "      <td>13 Jul 2023</td>\n",
       "      <td>[Antonina Kossy Bor]</td>\n",
       "      <td>Environment and Land Court at Nanyuki</td>\n",
       "      <td>[Ngari &amp; another, Land Registrar Laikipia &amp; an...</td>\n",
       "      <td>[]</td>\n",
       "      <td>Ngari &amp; another v Land Registrar Laikipia &amp; an...</td>\n",
       "      <td>Ngari &amp; Another V Land Registrar Laikipia &amp; An...</td>\n",
       "      <td>http://kenyalaw.org/caselaw/caselawreport/?id=...</td>\n",
       "      <td>http://kenyalaw.org/caselaw/cases/export/26561...</td>\n",
       "    </tr>\n",
       "    <tr>\n",
       "      <th>185</th>\n",
       "      <td>Environment &amp; Land Case E003 of 2021</td>\n",
       "      <td>30 May 2023</td>\n",
       "      <td>[Anthony Kaniaru]</td>\n",
       "      <td>Environment and Land Court at Embu</td>\n",
       "      <td>[Attorney General &amp; 2 others, Ben &amp; 4 others]</td>\n",
       "      <td>[]</td>\n",
       "      <td>Attorney General &amp; 2 others v Ben &amp; 4 others (...</td>\n",
       "      <td>Attorney General &amp; 2 Others V Ben &amp; 4 Others (...</td>\n",
       "      <td>http://kenyalaw.org/caselaw/caselawreport/?id=...</td>\n",
       "      <td>http://kenyalaw.org/caselaw/cases/export/26730...</td>\n",
       "    </tr>\n",
       "    <tr>\n",
       "      <th>216</th>\n",
       "      <td>Environment &amp; Land Case 182 of 2018</td>\n",
       "      <td>10 May 2023</td>\n",
       "      <td>[Maxwell Nduiga Gicheru]</td>\n",
       "      <td>Environment and Land Court at Kajiado</td>\n",
       "      <td>[Mbuthe, Jalil &amp; another]</td>\n",
       "      <td>[]</td>\n",
       "      <td>Mbuthe v Jalil &amp; another (Environment &amp; Land C...</td>\n",
       "      <td>Mbuthe V Jalil &amp; Another (Environment &amp; Land C...</td>\n",
       "      <td>http://kenyalaw.org/caselaw/caselawreport/?id=...</td>\n",
       "      <td>http://kenyalaw.org/caselaw/cases/export/25809...</td>\n",
       "    </tr>\n",
       "    <tr>\n",
       "      <th>240</th>\n",
       "      <td>Environment &amp; Land Case 18 of 2013</td>\n",
       "      <td>28 Mar 2023</td>\n",
       "      <td>[John M Mutungi]</td>\n",
       "      <td>Environment and Land Court at Nakuru</td>\n",
       "      <td>[Mwangi (Suing as the Attorney (Donee) of Loic...</td>\n",
       "      <td>[]</td>\n",
       "      <td>Mwangi (Suing as the Attorney (Donee) of Loice...</td>\n",
       "      <td>Mwangi (Suing As The Attorney (Donee) Of Loice...</td>\n",
       "      <td>http://kenyalaw.org/caselaw/caselawreport/?id=...</td>\n",
       "      <td>http://kenyalaw.org/caselaw/cases/export/25468...</td>\n",
       "    </tr>\n",
       "    <tr>\n",
       "      <th>...</th>\n",
       "      <td>...</td>\n",
       "      <td>...</td>\n",
       "      <td>...</td>\n",
       "      <td>...</td>\n",
       "      <td>...</td>\n",
       "      <td>...</td>\n",
       "      <td>...</td>\n",
       "      <td>...</td>\n",
       "      <td>...</td>\n",
       "      <td>...</td>\n",
       "    </tr>\n",
       "    <tr>\n",
       "      <th>3881</th>\n",
       "      <td>Civil Appeal 157 of 2007</td>\n",
       "      <td>12 Apr 2013</td>\n",
       "      <td>[M.J .ANYARA EMUKULE]</td>\n",
       "      <td>High Court at Nakuru</td>\n",
       "      <td>[GLADYS WAMBUI THITU &amp; ANOTHER V JACKSON MUNIU...</td>\n",
       "      <td>[]</td>\n",
       "      <td>GLADYS WAMBUI THITU &amp; ANOTHER V JACKSON MUNIU ...</td>\n",
       "      <td>GLADYS WAMBUI THITU &amp; ANOTHER V JACKSON MUNIU ...</td>\n",
       "      <td>http://kenyalaw.org/caselaw/caselawreport/?id=...</td>\n",
       "      <td>http://kenyalaw.org/caselaw/cases/export/87939...</td>\n",
       "    </tr>\n",
       "    <tr>\n",
       "      <th>3885</th>\n",
       "      <td>Succession Cause 59 of 2011</td>\n",
       "      <td>28 Mar 2013</td>\n",
       "      <td>[G. W. NGENYE â€“ MACHARIA]</td>\n",
       "      <td>High Court at Eldoret</td>\n",
       "      <td>[BEN KUMBUTI WASILWA  V SHIKUKU MASON SITERA &amp;...</td>\n",
       "      <td>[]</td>\n",
       "      <td>BEN KUMBUTI WASILWA  V SHIKUKU MASON SITERA &amp; ...</td>\n",
       "      <td>BEN KUMBUTI WASILWA  V SHIKUKU MASON SITERA &amp; ...</td>\n",
       "      <td>http://kenyalaw.org/caselaw/caselawreport/?id=...</td>\n",
       "      <td>http://kenyalaw.org/caselaw/cases/export/87820...</td>\n",
       "    </tr>\n",
       "    <tr>\n",
       "      <th>3932</th>\n",
       "      <td>Civil Appeal 78 of 2007</td>\n",
       "      <td>07 Feb 2013</td>\n",
       "      <td>[SAID J. CHITEMBWE]</td>\n",
       "      <td>High Court at Kakamega</td>\n",
       "      <td>[ELIAKIM OBUTSIKO &amp; 2 Others, FANUEL ONGENGE M...</td>\n",
       "      <td>[]</td>\n",
       "      <td>ELIAKIM OBUTSIKO &amp; 2 Others v FANUEL ONGENGE M...</td>\n",
       "      <td>ELIAKIM OBUTSIKO &amp; 2 Others V FANUEL ONGENGE M...</td>\n",
       "      <td>http://kenyalaw.org/caselaw/caselawreport/?id=...</td>\n",
       "      <td>http://kenyalaw.org/caselaw/cases/export/86449...</td>\n",
       "    </tr>\n",
       "    <tr>\n",
       "      <th>3933</th>\n",
       "      <td>Civil Appeal 78 of 2007</td>\n",
       "      <td>07 Feb 2013</td>\n",
       "      <td>[Said J. Chitembwe]</td>\n",
       "      <td>High Court at Kakamega</td>\n",
       "      <td>[ELIAKIM OBUTSIKO &amp; 2 others, FANUEL ONGENGE M...</td>\n",
       "      <td>[]</td>\n",
       "      <td>ELIAKIM OBUTSIKO &amp; 2 others v FANUEL ONGENGE M...</td>\n",
       "      <td>ELIAKIM OBUTSIKO &amp; 2 Others V FANUEL ONGENGE M...</td>\n",
       "      <td>http://kenyalaw.org/caselaw/caselawreport/?id=...</td>\n",
       "      <td>http://kenyalaw.org/caselaw/cases/export/86451...</td>\n",
       "    </tr>\n",
       "    <tr>\n",
       "      <th>3943</th>\n",
       "      <td>Judicial Review 5 of 2012</td>\n",
       "      <td>17 Jan 2013</td>\n",
       "      <td>[B. N. OLAO]</td>\n",
       "      <td>Employment and Labour Relations Court at Nyeri</td>\n",
       "      <td>[JOSEPH NGURE GATHUMBI V MWEA DIVISION LAND DI...</td>\n",
       "      <td>[]</td>\n",
       "      <td>JOSEPH NGURE GATHUMBI V MWEA DIVISION LAND DIS...</td>\n",
       "      <td>JOSEPH NGURE GATHUMBI V MWEA DIVISION LAND DIS...</td>\n",
       "      <td>http://kenyalaw.org/caselaw/caselawreport/?id=...</td>\n",
       "      <td>http://kenyalaw.org/caselaw/cases/export/86604...</td>\n",
       "    </tr>\n",
       "  </tbody>\n",
       "</table>\n",
       "<p>202 rows × 10 columns</p>\n",
       "</div>"
      ],
      "text/plain": [
       "                                   case_number date_delivered  \\\n",
       "132   Environment and Land Appeal E002 of 2022    27 Jul 2023   \n",
       "149          Environment & Land Case 1 of 2023    13 Jul 2023   \n",
       "185       Environment & Land Case E003 of 2021    30 May 2023   \n",
       "216        Environment & Land Case 182 of 2018    10 May 2023   \n",
       "240         Environment & Land Case 18 of 2013    28 Mar 2023   \n",
       "...                                        ...            ...   \n",
       "3881                  Civil Appeal 157 of 2007    12 Apr 2013   \n",
       "3885               Succession Cause 59 of 2011    28 Mar 2013   \n",
       "3932                   Civil Appeal 78 of 2007    07 Feb 2013   \n",
       "3933                   Civil Appeal 78 of 2007    07 Feb 2013   \n",
       "3943                 Judicial Review 5 of 2012    17 Jan 2013   \n",
       "\n",
       "                           judges  \\\n",
       "132       [Lucy Nyambura Gacheru]   \n",
       "149          [Antonina Kossy Bor]   \n",
       "185             [Anthony Kaniaru]   \n",
       "216      [Maxwell Nduiga Gicheru]   \n",
       "240              [John M Mutungi]   \n",
       "...                           ...   \n",
       "3881        [M.J .ANYARA EMUKULE]   \n",
       "3885  [G. W. NGENYE â€“ MACHARIA]   \n",
       "3932          [SAID J. CHITEMBWE]   \n",
       "3933          [Said J. Chitembwe]   \n",
       "3943                 [B. N. OLAO]   \n",
       "\n",
       "                                               court  \\\n",
       "132            Environment and Land Court at Muranga   \n",
       "149            Environment and Land Court at Nanyuki   \n",
       "185               Environment and Land Court at Embu   \n",
       "216            Environment and Land Court at Kajiado   \n",
       "240             Environment and Land Court at Nakuru   \n",
       "...                                              ...   \n",
       "3881                            High Court at Nakuru   \n",
       "3885                           High Court at Eldoret   \n",
       "3932                          High Court at Kakamega   \n",
       "3933                          High Court at Kakamega   \n",
       "3943  Employment and Labour Relations Court at Nyeri   \n",
       "\n",
       "                                                parties advocates  \\\n",
       "132   [Waweru (Suing as the Legal Representative of ...        []   \n",
       "149   [Ngari & another, Land Registrar Laikipia & an...        []   \n",
       "185       [Attorney General & 2 others, Ben & 4 others]        []   \n",
       "216                           [Mbuthe, Jalil & another]        []   \n",
       "240   [Mwangi (Suing as the Attorney (Donee) of Loic...        []   \n",
       "...                                                 ...       ...   \n",
       "3881  [GLADYS WAMBUI THITU & ANOTHER V JACKSON MUNIU...        []   \n",
       "3885  [BEN KUMBUTI WASILWA  V SHIKUKU MASON SITERA &...        []   \n",
       "3932  [ELIAKIM OBUTSIKO & 2 Others, FANUEL ONGENGE M...        []   \n",
       "3933  [ELIAKIM OBUTSIKO & 2 others, FANUEL ONGENGE M...        []   \n",
       "3943  [JOSEPH NGURE GATHUMBI V MWEA DIVISION LAND DI...        []   \n",
       "\n",
       "                                               citation  \\\n",
       "132   Waweru (Suing as the Legal Representative of t...   \n",
       "149   Ngari & another v Land Registrar Laikipia & an...   \n",
       "185   Attorney General & 2 others v Ben & 4 others (...   \n",
       "216   Mbuthe v Jalil & another (Environment & Land C...   \n",
       "240   Mwangi (Suing as the Attorney (Donee) of Loice...   \n",
       "...                                                 ...   \n",
       "3881  GLADYS WAMBUI THITU & ANOTHER V JACKSON MUNIU ...   \n",
       "3885  BEN KUMBUTI WASILWA  V SHIKUKU MASON SITERA & ...   \n",
       "3932  ELIAKIM OBUTSIKO & 2 Others v FANUEL ONGENGE M...   \n",
       "3933  ELIAKIM OBUTSIKO & 2 others v FANUEL ONGENGE M...   \n",
       "3943  JOSEPH NGURE GATHUMBI V MWEA DIVISION LAND DIS...   \n",
       "\n",
       "                                                  title  \\\n",
       "132   Waweru (Suing As The Legal Representative Of T...   \n",
       "149   Ngari & Another V Land Registrar Laikipia & An...   \n",
       "185   Attorney General & 2 Others V Ben & 4 Others (...   \n",
       "216   Mbuthe V Jalil & Another (Environment & Land C...   \n",
       "240   Mwangi (Suing As The Attorney (Donee) Of Loice...   \n",
       "...                                                 ...   \n",
       "3881  GLADYS WAMBUI THITU & ANOTHER V JACKSON MUNIU ...   \n",
       "3885  BEN KUMBUTI WASILWA  V SHIKUKU MASON SITERA & ...   \n",
       "3932  ELIAKIM OBUTSIKO & 2 Others V FANUEL ONGENGE M...   \n",
       "3933  ELIAKIM OBUTSIKO & 2 Others V FANUEL ONGENGE M...   \n",
       "3943  JOSEPH NGURE GATHUMBI V MWEA DIVISION LAND DIS...   \n",
       "\n",
       "                                          file_page_url  \\\n",
       "132   http://kenyalaw.org/caselaw/caselawreport/?id=...   \n",
       "149   http://kenyalaw.org/caselaw/caselawreport/?id=...   \n",
       "185   http://kenyalaw.org/caselaw/caselawreport/?id=...   \n",
       "216   http://kenyalaw.org/caselaw/caselawreport/?id=...   \n",
       "240   http://kenyalaw.org/caselaw/caselawreport/?id=...   \n",
       "...                                                 ...   \n",
       "3881  http://kenyalaw.org/caselaw/caselawreport/?id=...   \n",
       "3885  http://kenyalaw.org/caselaw/caselawreport/?id=...   \n",
       "3932  http://kenyalaw.org/caselaw/caselawreport/?id=...   \n",
       "3933  http://kenyalaw.org/caselaw/caselawreport/?id=...   \n",
       "3943  http://kenyalaw.org/caselaw/caselawreport/?id=...   \n",
       "\n",
       "                                      file_download_url  \n",
       "132   http://kenyalaw.org/caselaw/cases/export/26478...  \n",
       "149   http://kenyalaw.org/caselaw/cases/export/26561...  \n",
       "185   http://kenyalaw.org/caselaw/cases/export/26730...  \n",
       "216   http://kenyalaw.org/caselaw/cases/export/25809...  \n",
       "240   http://kenyalaw.org/caselaw/cases/export/25468...  \n",
       "...                                                 ...  \n",
       "3881  http://kenyalaw.org/caselaw/cases/export/87939...  \n",
       "3885  http://kenyalaw.org/caselaw/cases/export/87820...  \n",
       "3932  http://kenyalaw.org/caselaw/cases/export/86449...  \n",
       "3933  http://kenyalaw.org/caselaw/cases/export/86451...  \n",
       "3943  http://kenyalaw.org/caselaw/cases/export/86604...  \n",
       "\n",
       "[202 rows x 10 columns]"
      ]
     },
     "execution_count": 47,
     "metadata": {},
     "output_type": "execute_result"
    }
   ],
   "source": [
    "duplicates"
   ]
  },
  {
   "cell_type": "code",
   "execution_count": 48,
   "metadata": {},
   "outputs": [],
   "source": [
    "# duplicates = df.groupby('case_number').apply(lambda x: list(x.index[x.duplicated()]))\n",
    "\n",
    "# print(duplicates)"
   ]
  },
  {
   "cell_type": "code",
   "execution_count": 49,
   "metadata": {},
   "outputs": [
    {
     "data": {
      "text/plain": [
       "array([<class 'str'>], dtype=object)"
      ]
     },
     "execution_count": 49,
     "metadata": {},
     "output_type": "execute_result"
    }
   ],
   "source": [
    "df.case_number.apply(type).unique()"
   ]
  },
  {
   "cell_type": "code",
   "execution_count": 50,
   "metadata": {},
   "outputs": [
    {
     "name": "stdout",
     "output_type": "stream",
     "text": [
      "Index(['judges', 'parties', 'advocates'], dtype='object')\n"
     ]
    },
    {
     "name": "stderr",
     "output_type": "stream",
     "text": [
      "/tmp/ipykernel_624316/2876718424.py:1: FutureWarning: DataFrame.applymap has been deprecated. Use DataFrame.map instead.\n",
      "  columns_with_lists = df.applymap(lambda x: isinstance(x, list)).any()\n"
     ]
    }
   ],
   "source": [
    "columns_with_lists = df.applymap(lambda x: isinstance(x, list)).any()\n",
    "print(columns_with_lists[columns_with_lists].index)"
   ]
  },
  {
   "cell_type": "code",
   "execution_count": 51,
   "metadata": {},
   "outputs": [
    {
     "name": "stdout",
     "output_type": "stream",
     "text": [
      "7\n"
     ]
    }
   ],
   "source": [
    "# Exclude columns with unhashable types from the groupby operation\n",
    "grouped = df.drop(['judges', 'parties', 'advocates'], axis=1)\n",
    "\n",
    "# Find duplicates in each group\n",
    "duplicates = grouped.apply(lambda x: list(x.index[x.duplicated()]))\n",
    "print(len(duplicates))"
   ]
  },
  {
   "cell_type": "code",
   "execution_count": 52,
   "metadata": {},
   "outputs": [
    {
     "data": {
      "text/plain": [
       "3944"
      ]
     },
     "execution_count": 52,
     "metadata": {},
     "output_type": "execute_result"
    }
   ],
   "source": [
    "len(df)"
   ]
  },
  {
   "cell_type": "code",
   "execution_count": 53,
   "metadata": {},
   "outputs": [
    {
     "data": {
      "text/plain": [
       "case_number       [132, 149, 185, 216, 240, 246, 247, 264, 320, ...\n",
       "date_delivered    [4, 6, 7, 10, 12, 15, 16, 17, 18, 20, 23, 25, ...\n",
       "court             [3, 8, 11, 16, 20, 25, 27, 30, 31, 37, 39, 40,...\n",
       "citation          [703, 909, 952, 1084, 1163, 1369, 1602, 1959, ...\n",
       "title             [703, 909, 952, 1084, 1163, 1369, 1602, 1959, ...\n",
       "dtype: object"
      ]
     },
     "execution_count": 53,
     "metadata": {},
     "output_type": "execute_result"
    }
   ],
   "source": [
    "duplicates.head()"
   ]
  },
  {
   "cell_type": "code",
   "execution_count": 54,
   "metadata": {},
   "outputs": [
    {
     "data": {
      "text/html": [
       "<div>\n",
       "<style scoped>\n",
       "    .dataframe tbody tr th:only-of-type {\n",
       "        vertical-align: middle;\n",
       "    }\n",
       "\n",
       "    .dataframe tbody tr th {\n",
       "        vertical-align: top;\n",
       "    }\n",
       "\n",
       "    .dataframe thead th {\n",
       "        text-align: right;\n",
       "    }\n",
       "</style>\n",
       "<table border=\"1\" class=\"dataframe\">\n",
       "  <thead>\n",
       "    <tr style=\"text-align: right;\">\n",
       "      <th></th>\n",
       "      <th>case_number</th>\n",
       "      <th>date_delivered</th>\n",
       "      <th>judges</th>\n",
       "      <th>court</th>\n",
       "      <th>parties</th>\n",
       "      <th>advocates</th>\n",
       "      <th>citation</th>\n",
       "      <th>title</th>\n",
       "      <th>file_page_url</th>\n",
       "      <th>file_download_url</th>\n",
       "    </tr>\n",
       "  </thead>\n",
       "  <tbody>\n",
       "    <tr>\n",
       "      <th>3751</th>\n",
       "      <td>Appeal 1 of 2012</td>\n",
       "      <td>10 Jul 2013</td>\n",
       "      <td>[Stephen Murigi Kibunja]</td>\n",
       "      <td>High Court at Busia</td>\n",
       "      <td>[Paul Ochawachi Ouma &amp; Nicholas Buluma Ouma, A...</td>\n",
       "      <td>[]</td>\n",
       "      <td>Paul Ochawachi Ouma &amp; another v Agunda Sakhali...</td>\n",
       "      <td>Paul Ochawachi Ouma &amp; Another V Agunda Sakhali...</td>\n",
       "      <td>http://kenyalaw.org/caselaw/caselawreport/?id=...</td>\n",
       "      <td>http://kenyalaw.org/caselaw/cases/export/90196...</td>\n",
       "    </tr>\n",
       "  </tbody>\n",
       "</table>\n",
       "</div>"
      ],
      "text/plain": [
       "           case_number date_delivered                    judges  \\\n",
       "3751  Appeal 1 of 2012    10 Jul 2013  [Stephen Murigi Kibunja]   \n",
       "\n",
       "                    court                                            parties  \\\n",
       "3751  High Court at Busia  [Paul Ochawachi Ouma & Nicholas Buluma Ouma, A...   \n",
       "\n",
       "     advocates                                           citation  \\\n",
       "3751        []  Paul Ochawachi Ouma & another v Agunda Sakhali...   \n",
       "\n",
       "                                                  title  \\\n",
       "3751  Paul Ochawachi Ouma & Another V Agunda Sakhali...   \n",
       "\n",
       "                                          file_page_url  \\\n",
       "3751  http://kenyalaw.org/caselaw/caselawreport/?id=...   \n",
       "\n",
       "                                      file_download_url  \n",
       "3751  http://kenyalaw.org/caselaw/cases/export/90196...  "
      ]
     },
     "execution_count": 54,
     "metadata": {},
     "output_type": "execute_result"
    }
   ],
   "source": [
    "df[df.case_number == \"Appeal 1 of 2012\"]"
   ]
  },
  {
   "cell_type": "code",
   "execution_count": 55,
   "metadata": {},
   "outputs": [
    {
     "data": {
      "text/plain": [
       "3742"
      ]
     },
     "execution_count": 55,
     "metadata": {},
     "output_type": "execute_result"
    }
   ],
   "source": [
    "len(df.case_number.unique())"
   ]
  },
  {
   "cell_type": "code",
   "execution_count": 56,
   "metadata": {},
   "outputs": [],
   "source": [
    "duplicates = df[df.duplicated(subset='case_number')]\n",
    "a = duplicates.groupby('case_number').size()\n",
    "filtered_duplicates = a[a > 1]"
   ]
  },
  {
   "cell_type": "code",
   "execution_count": 57,
   "metadata": {},
   "outputs": [],
   "source": [
    "mask = df['case_number'].isin(filtered_duplicates.index)\n",
    "df = df.drop_duplicates(subset='case_number')"
   ]
  },
  {
   "cell_type": "code",
   "execution_count": 58,
   "metadata": {},
   "outputs": [
    {
     "data": {
      "text/plain": [
       "3742"
      ]
     },
     "execution_count": 58,
     "metadata": {},
     "output_type": "execute_result"
    }
   ],
   "source": [
    "len(df.case_number.unique())"
   ]
  },
  {
   "cell_type": "code",
   "execution_count": 59,
   "metadata": {},
   "outputs": [],
   "source": [
    "cases = df.drop(['judges', 'parties', 'advocates'], axis=1)"
   ]
  },
  {
   "cell_type": "code",
   "execution_count": 60,
   "metadata": {},
   "outputs": [],
   "source": [
    "all_judges = []\n",
    "for judges in df.judges.values:\n",
    "    for judge in judges:\n",
    "        all_judges.append(judge)"
   ]
  },
  {
   "cell_type": "code",
   "execution_count": 61,
   "metadata": {},
   "outputs": [
    {
     "data": {
      "text/plain": [
       "4153"
      ]
     },
     "execution_count": 61,
     "metadata": {},
     "output_type": "execute_result"
    }
   ],
   "source": [
    "len(all_judges)"
   ]
  },
  {
   "cell_type": "code",
   "execution_count": 62,
   "metadata": {},
   "outputs": [
    {
     "data": {
      "text/plain": [
       "278"
      ]
     },
     "execution_count": 62,
     "metadata": {},
     "output_type": "execute_result"
    }
   ],
   "source": [
    "len(set(all_judges))"
   ]
  },
  {
   "cell_type": "code",
   "execution_count": 63,
   "metadata": {},
   "outputs": [],
   "source": [
    "all_advocates = []\n",
    "for advocates in df.advocates.values:\n",
    "    for advocate in advocates:\n",
    "        all_advocates.append(advocate)"
   ]
  },
  {
   "cell_type": "code",
   "execution_count": 64,
   "metadata": {},
   "outputs": [
    {
     "data": {
      "text/plain": [
       "7204"
      ]
     },
     "execution_count": 64,
     "metadata": {},
     "output_type": "execute_result"
    }
   ],
   "source": [
    "len(df.parties.explode())"
   ]
  },
  {
   "cell_type": "code",
   "execution_count": 65,
   "metadata": {},
   "outputs": [
    {
     "data": {
      "text/plain": [
       "6234"
      ]
     },
     "execution_count": 65,
     "metadata": {},
     "output_type": "execute_result"
    }
   ],
   "source": [
    "len(df.parties.explode().unique())"
   ]
  },
  {
   "cell_type": "markdown",
   "metadata": {},
   "source": [
    "## Feed Data into Graph"
   ]
  },
  {
   "cell_type": "code",
   "execution_count": 66,
   "metadata": {},
   "outputs": [],
   "source": [
    "class Neo4jConnection:\n",
    "\n",
    "    def __init__(self, url, user, pwd):\n",
    "        self.__url = url\n",
    "        self.__user = user\n",
    "        self.__pwd = pwd\n",
    "\n",
    "        try:\n",
    "            self.__driver = GraphDatabase.driver(self.__url, auth=(self.__user, self.__pwd))\n",
    "        \n",
    "        except Exception as e:\n",
    "            print(\"Failed to create the driver: \", e)\n",
    "    \n",
    "    def close(self):\n",
    "        if self.__driver is not None:\n",
    "            self.__driver.close()\n",
    "        \n",
    "    def query(self, query, parameters=None, db=None):\n",
    "        assert self.__driver is not None, \"Driver not initialized!\"\n",
    "\n",
    "        session = None\n",
    "        response = None\n",
    "        try:\n",
    "            session = self.__driver.session(database=db) if db is not None else self.__driver.session()\n",
    "            response = list(session.run(query, parameters))\n",
    "        except Exception as e:\n",
    "            print(\"Query failed: \", e)\n",
    "        \n",
    "        finally:\n",
    "            if session is not None:\n",
    "                session.close()\n",
    "            \n",
    "        return response\n",
    "\n",
    "conn = Neo4jConnection(\n",
    "    url=\"bolt://44.203.91.25:7687\",\n",
    "    user=\"neo4j\",\n",
    "    pwd=\"priority-mover-briefings\",\n",
    ")"
   ]
  },
  {
   "cell_type": "code",
   "execution_count": 67,
   "metadata": {},
   "outputs": [
    {
     "data": {
      "text/plain": [
       "Index(['case_number', 'date_delivered', 'judges', 'court', 'parties',\n",
       "       'advocates', 'citation', 'title', 'file_page_url', 'file_download_url'],\n",
       "      dtype='object')"
      ]
     },
     "execution_count": 67,
     "metadata": {},
     "output_type": "execute_result"
    }
   ],
   "source": [
    "df.columns"
   ]
  },
  {
   "cell_type": "code",
   "execution_count": 68,
   "metadata": {},
   "outputs": [
    {
     "data": {
      "text/plain": [
       "[]"
      ]
     },
     "execution_count": 68,
     "metadata": {},
     "output_type": "execute_result"
    }
   ],
   "source": [
    "conn.query('CREATE CONSTRAINT cases IF NOT EXISTS FOR (c:Case)   REQUIRE c.id is UNIQUE')\n",
    "conn.query('CREATE CONSTRAINT courts IF NOT EXISTS FOR (co:Court)   REQUIRE co.id is UNIQUE')\n",
    "conn.query('CREATE CONSTRAINT judges IF NOT EXISTS FOR (j:Judge)   REQUIRE j.id is UNIQUE')\n",
    "conn.query('CREATE CONSTRAINT parties IF NOT EXISTS FOR (p:Party)   REQUIRE p.id is UNIQUE')\n"
   ]
  },
  {
   "cell_type": "code",
   "execution_count": 69,
   "metadata": {},
   "outputs": [],
   "source": [
    "def add_cases(cases):\n",
    "    query = '''\n",
    "            UNWIND $rows AS row\n",
    "            MERGE (c:Case {case_number: row.case_number, citation: row.citation, date_delivered: row.date_delivered})\n",
    "            MERGE (co:Court {court: row.court})\n",
    "            RETURN count(*) as total\n",
    "            '''\n",
    "    return conn.query(query, parameters={'rows': cases.to_dict('records')})"
   ]
  },
  {
   "cell_type": "code",
   "execution_count": 70,
   "metadata": {},
   "outputs": [
    {
     "data": {
      "text/plain": [
       "[<Record total=3742>]"
      ]
     },
     "execution_count": 70,
     "metadata": {},
     "output_type": "execute_result"
    }
   ],
   "source": [
    "add_cases(df)"
   ]
  },
  {
   "cell_type": "code",
   "execution_count": 71,
   "metadata": {},
   "outputs": [],
   "source": [
    "No_at = df[df.court.str.contains(' at ') == False]"
   ]
  },
  {
   "cell_type": "code",
   "execution_count": 72,
   "metadata": {},
   "outputs": [
    {
     "data": {
      "text/html": [
       "<div>\n",
       "<style scoped>\n",
       "    .dataframe tbody tr th:only-of-type {\n",
       "        vertical-align: middle;\n",
       "    }\n",
       "\n",
       "    .dataframe tbody tr th {\n",
       "        vertical-align: top;\n",
       "    }\n",
       "\n",
       "    .dataframe thead th {\n",
       "        text-align: right;\n",
       "    }\n",
       "</style>\n",
       "<table border=\"1\" class=\"dataframe\">\n",
       "  <thead>\n",
       "    <tr style=\"text-align: right;\">\n",
       "      <th></th>\n",
       "      <th>case_number</th>\n",
       "      <th>date_delivered</th>\n",
       "      <th>judges</th>\n",
       "      <th>court</th>\n",
       "      <th>parties</th>\n",
       "      <th>advocates</th>\n",
       "      <th>citation</th>\n",
       "      <th>title</th>\n",
       "      <th>file_page_url</th>\n",
       "      <th>file_download_url</th>\n",
       "    </tr>\n",
       "  </thead>\n",
       "  <tbody>\n",
       "    <tr>\n",
       "      <th>1303</th>\n",
       "      <td>Appeal Case 21 &amp; 24 of 2019 (Consolidated)</td>\n",
       "      <td>03 Dec 2019</td>\n",
       "      <td>[]</td>\n",
       "      <td>Sports Disputes Tribunal</td>\n",
       "      <td>[Jared Nyauma Ondieki, Samson Nyamweya Keengu,...</td>\n",
       "      <td>[]</td>\n",
       "      <td>Jared Nyauma Ondieki &amp; 6 others v Football Ken...</td>\n",
       "      <td>Jared Nyauma Ondieki &amp; 6 Others V Football Ken...</td>\n",
       "      <td>http://kenyalaw.org/caselaw/caselawreport/?id=...</td>\n",
       "      <td>http://kenyalaw.org/caselaw/cases/export/18674...</td>\n",
       "    </tr>\n",
       "  </tbody>\n",
       "</table>\n",
       "</div>"
      ],
      "text/plain": [
       "                                     case_number date_delivered judges  \\\n",
       "1303  Appeal Case 21 & 24 of 2019 (Consolidated)    03 Dec 2019     []   \n",
       "\n",
       "                         court  \\\n",
       "1303  Sports Disputes Tribunal   \n",
       "\n",
       "                                                parties advocates  \\\n",
       "1303  [Jared Nyauma Ondieki, Samson Nyamweya Keengu,...        []   \n",
       "\n",
       "                                               citation  \\\n",
       "1303  Jared Nyauma Ondieki & 6 others v Football Ken...   \n",
       "\n",
       "                                                  title  \\\n",
       "1303  Jared Nyauma Ondieki & 6 Others V Football Ken...   \n",
       "\n",
       "                                          file_page_url  \\\n",
       "1303  http://kenyalaw.org/caselaw/caselawreport/?id=...   \n",
       "\n",
       "                                      file_download_url  \n",
       "1303  http://kenyalaw.org/caselaw/cases/export/18674...  "
      ]
     },
     "execution_count": 72,
     "metadata": {},
     "output_type": "execute_result"
    }
   ],
   "source": [
    "No_at_No_of = No_at[No_at.court.str.contains(' of ') == False]\n",
    "\n",
    "No_at_No_of"
   ]
  },
  {
   "cell_type": "code",
   "execution_count": 73,
   "metadata": {},
   "outputs": [],
   "source": [
    "def add_relationships(df):\n",
    "    query = \"\"\"\n",
    "            UNWIND $rows AS row\n",
    "            MATCH (case:Case {case_number: row.case_number}), (court:Court {court: row.court})\n",
    "            WHERE NOT ((case)-[:HEARD_IN]->(court))\n",
    "            MERGE (case)-[:HEARD_IN]->(court)\n",
    "            RETURN COUNT(*) as total\n",
    "            \"\"\"\n",
    "    return conn.query(query, parameters={'rows': cases.to_dict('records')})"
   ]
  },
  {
   "cell_type": "code",
   "execution_count": 74,
   "metadata": {},
   "outputs": [
    {
     "data": {
      "text/plain": [
       "[<Record total=3742>]"
      ]
     },
     "execution_count": 74,
     "metadata": {},
     "output_type": "execute_result"
    }
   ],
   "source": [
    "add_relationships(df)"
   ]
  },
  {
   "cell_type": "code",
   "execution_count": 75,
   "metadata": {},
   "outputs": [
    {
     "data": {
      "text/html": [
       "<div>\n",
       "<style scoped>\n",
       "    .dataframe tbody tr th:only-of-type {\n",
       "        vertical-align: middle;\n",
       "    }\n",
       "\n",
       "    .dataframe tbody tr th {\n",
       "        vertical-align: top;\n",
       "    }\n",
       "\n",
       "    .dataframe thead th {\n",
       "        text-align: right;\n",
       "    }\n",
       "</style>\n",
       "<table border=\"1\" class=\"dataframe\">\n",
       "  <thead>\n",
       "    <tr style=\"text-align: right;\">\n",
       "      <th></th>\n",
       "      <th>case_number</th>\n",
       "      <th>date_delivered</th>\n",
       "      <th>judges</th>\n",
       "      <th>court</th>\n",
       "      <th>parties</th>\n",
       "      <th>advocates</th>\n",
       "      <th>citation</th>\n",
       "      <th>title</th>\n",
       "      <th>file_page_url</th>\n",
       "      <th>file_download_url</th>\n",
       "    </tr>\n",
       "  </thead>\n",
       "  <tbody>\n",
       "    <tr>\n",
       "      <th>392</th>\n",
       "      <td>Environment &amp; Land Case 743 of 2017</td>\n",
       "      <td>02 Nov 2022</td>\n",
       "      <td>[Maxwell Nduiga Gicheru]</td>\n",
       "      <td>Environment and Land Court at Kajiado</td>\n",
       "      <td>[Njoroge &amp; 2 others, Lesaloi &amp; 5 others]</td>\n",
       "      <td>[]</td>\n",
       "      <td>Njoroge &amp; 2 others v Lesaloi &amp; 5 others (Envir...</td>\n",
       "      <td>Njoroge &amp; 2 Others V Lesaloi &amp; 5 Others (Envir...</td>\n",
       "      <td>http://kenyalaw.org/caselaw/caselawreport/?id=...</td>\n",
       "      <td>http://kenyalaw.org/caselaw/cases/export/24538...</td>\n",
       "    </tr>\n",
       "  </tbody>\n",
       "</table>\n",
       "</div>"
      ],
      "text/plain": [
       "                             case_number date_delivered  \\\n",
       "392  Environment & Land Case 743 of 2017    02 Nov 2022   \n",
       "\n",
       "                       judges                                  court  \\\n",
       "392  [Maxwell Nduiga Gicheru]  Environment and Land Court at Kajiado   \n",
       "\n",
       "                                      parties advocates  \\\n",
       "392  [Njoroge & 2 others, Lesaloi & 5 others]        []   \n",
       "\n",
       "                                              citation  \\\n",
       "392  Njoroge & 2 others v Lesaloi & 5 others (Envir...   \n",
       "\n",
       "                                                 title  \\\n",
       "392  Njoroge & 2 Others V Lesaloi & 5 Others (Envir...   \n",
       "\n",
       "                                         file_page_url  \\\n",
       "392  http://kenyalaw.org/caselaw/caselawreport/?id=...   \n",
       "\n",
       "                                     file_download_url  \n",
       "392  http://kenyalaw.org/caselaw/cases/export/24538...  "
      ]
     },
     "execution_count": 75,
     "metadata": {},
     "output_type": "execute_result"
    }
   ],
   "source": [
    "df[df.case_number == 'Environment & Land Case 743 of 2017']"
   ]
  },
  {
   "cell_type": "code",
   "execution_count": 76,
   "metadata": {},
   "outputs": [
    {
     "data": {
      "text/html": [
       "<div>\n",
       "<style scoped>\n",
       "    .dataframe tbody tr th:only-of-type {\n",
       "        vertical-align: middle;\n",
       "    }\n",
       "\n",
       "    .dataframe tbody tr th {\n",
       "        vertical-align: top;\n",
       "    }\n",
       "\n",
       "    .dataframe thead th {\n",
       "        text-align: right;\n",
       "    }\n",
       "</style>\n",
       "<table border=\"1\" class=\"dataframe\">\n",
       "  <thead>\n",
       "    <tr style=\"text-align: right;\">\n",
       "      <th></th>\n",
       "      <th>case_number</th>\n",
       "      <th>date_delivered</th>\n",
       "      <th>judges</th>\n",
       "      <th>court</th>\n",
       "      <th>parties</th>\n",
       "      <th>advocates</th>\n",
       "      <th>citation</th>\n",
       "      <th>title</th>\n",
       "      <th>file_page_url</th>\n",
       "      <th>file_download_url</th>\n",
       "    </tr>\n",
       "  </thead>\n",
       "  <tbody>\n",
       "    <tr>\n",
       "      <th>200</th>\n",
       "      <td>Environment &amp; Land Case 182 of 2018</td>\n",
       "      <td>23 May 2023</td>\n",
       "      <td>[Milicent Akinyi Obwa Odeny]</td>\n",
       "      <td>Environment and Land Court at Malindi</td>\n",
       "      <td>[Maalim &amp; 4 others, Jarha &amp; 16 others]</td>\n",
       "      <td>[]</td>\n",
       "      <td>Maalim &amp; 4 others v Jarha &amp; 16 others (Environ...</td>\n",
       "      <td>Maalim &amp; 4 Others V Jarha &amp; 16 Others (Environ...</td>\n",
       "      <td>http://kenyalaw.org/caselaw/caselawreport/?id=...</td>\n",
       "      <td>http://kenyalaw.org/caselaw/cases/export/25872...</td>\n",
       "    </tr>\n",
       "  </tbody>\n",
       "</table>\n",
       "</div>"
      ],
      "text/plain": [
       "                             case_number date_delivered  \\\n",
       "200  Environment & Land Case 182 of 2018    23 May 2023   \n",
       "\n",
       "                           judges                                  court  \\\n",
       "200  [Milicent Akinyi Obwa Odeny]  Environment and Land Court at Malindi   \n",
       "\n",
       "                                    parties advocates  \\\n",
       "200  [Maalim & 4 others, Jarha & 16 others]        []   \n",
       "\n",
       "                                              citation  \\\n",
       "200  Maalim & 4 others v Jarha & 16 others (Environ...   \n",
       "\n",
       "                                                 title  \\\n",
       "200  Maalim & 4 Others V Jarha & 16 Others (Environ...   \n",
       "\n",
       "                                         file_page_url  \\\n",
       "200  http://kenyalaw.org/caselaw/caselawreport/?id=...   \n",
       "\n",
       "                                     file_download_url  \n",
       "200  http://kenyalaw.org/caselaw/cases/export/25872...  "
      ]
     },
     "execution_count": 76,
     "metadata": {},
     "output_type": "execute_result"
    }
   ],
   "source": [
    "df[df.case_number == 'Environment & Land Case 182 of 2018']"
   ]
  },
  {
   "cell_type": "code",
   "execution_count": 77,
   "metadata": {},
   "outputs": [],
   "source": [
    "duplicates = df[df.duplicated(subset='case_number')]\n",
    "a = duplicates.groupby('case_number').size()\n",
    "filtered_duplicates = a[a > 1]\n"
   ]
  },
  {
   "cell_type": "code",
   "execution_count": 78,
   "metadata": {},
   "outputs": [
    {
     "data": {
      "text/plain": [
       "0"
      ]
     },
     "execution_count": 78,
     "metadata": {},
     "output_type": "execute_result"
    }
   ],
   "source": [
    "len(duplicates)"
   ]
  },
  {
   "cell_type": "code",
   "execution_count": 79,
   "metadata": {},
   "outputs": [],
   "source": [
    "duplicates.to_csv('duplicates.csv')"
   ]
  },
  {
   "cell_type": "code",
   "execution_count": 80,
   "metadata": {},
   "outputs": [],
   "source": [
    "a = duplicates.groupby('case_number').size()"
   ]
  },
  {
   "cell_type": "code",
   "execution_count": 81,
   "metadata": {},
   "outputs": [],
   "source": [
    "filtered_duplicates = a[a > 1]"
   ]
  },
  {
   "cell_type": "code",
   "execution_count": 82,
   "metadata": {},
   "outputs": [],
   "source": [
    "b = filtered_duplicates.groupby('case_number').size()"
   ]
  },
  {
   "cell_type": "code",
   "execution_count": 83,
   "metadata": {},
   "outputs": [
    {
     "data": {
      "text/plain": [
       "Series([], dtype: int64)"
      ]
     },
     "execution_count": 83,
     "metadata": {},
     "output_type": "execute_result"
    }
   ],
   "source": [
    "filtered_duplicates"
   ]
  },
  {
   "cell_type": "code",
   "execution_count": 84,
   "metadata": {},
   "outputs": [],
   "source": [
    "for case in filtered_duplicates.index:\n",
    "    print(f'{case}: {a[case]}')\n",
    "    print(df[df.case_number == case])"
   ]
  },
  {
   "cell_type": "code",
   "execution_count": 85,
   "metadata": {},
   "outputs": [
    {
     "data": {
      "text/html": [
       "<div>\n",
       "<style scoped>\n",
       "    .dataframe tbody tr th:only-of-type {\n",
       "        vertical-align: middle;\n",
       "    }\n",
       "\n",
       "    .dataframe tbody tr th {\n",
       "        vertical-align: top;\n",
       "    }\n",
       "\n",
       "    .dataframe thead th {\n",
       "        text-align: right;\n",
       "    }\n",
       "</style>\n",
       "<table border=\"1\" class=\"dataframe\">\n",
       "  <thead>\n",
       "    <tr style=\"text-align: right;\">\n",
       "      <th></th>\n",
       "      <th>case_number</th>\n",
       "      <th>date_delivered</th>\n",
       "      <th>judges</th>\n",
       "      <th>court</th>\n",
       "      <th>parties</th>\n",
       "      <th>advocates</th>\n",
       "      <th>citation</th>\n",
       "      <th>title</th>\n",
       "      <th>file_page_url</th>\n",
       "      <th>file_download_url</th>\n",
       "    </tr>\n",
       "  </thead>\n",
       "  <tbody>\n",
       "    <tr>\n",
       "      <th>2607</th>\n",
       "      <td>Judicial Review 92 of 2011</td>\n",
       "      <td>13 Oct 2016</td>\n",
       "      <td>[Munyao Sila]</td>\n",
       "      <td>Environment and Land Court at Nakuru</td>\n",
       "      <td>[School Management Committee Bagaria  Primary ...</td>\n",
       "      <td>[]</td>\n",
       "      <td>School Management Committee Bagaria  Primary S...</td>\n",
       "      <td>School Management Committee Bagaria  Primary S...</td>\n",
       "      <td>http://kenyalaw.org/caselaw/caselawreport/?id=...</td>\n",
       "      <td>http://kenyalaw.org/caselaw/cases/export/12743...</td>\n",
       "    </tr>\n",
       "  </tbody>\n",
       "</table>\n",
       "</div>"
      ],
      "text/plain": [
       "                     case_number date_delivered         judges  \\\n",
       "2607  Judicial Review 92 of 2011    13 Oct 2016  [Munyao Sila]   \n",
       "\n",
       "                                     court  \\\n",
       "2607  Environment and Land Court at Nakuru   \n",
       "\n",
       "                                                parties advocates  \\\n",
       "2607  [School Management Committee Bagaria  Primary ...        []   \n",
       "\n",
       "                                               citation  \\\n",
       "2607  School Management Committee Bagaria  Primary S...   \n",
       "\n",
       "                                                  title  \\\n",
       "2607  School Management Committee Bagaria  Primary S...   \n",
       "\n",
       "                                          file_page_url  \\\n",
       "2607  http://kenyalaw.org/caselaw/caselawreport/?id=...   \n",
       "\n",
       "                                      file_download_url  \n",
       "2607  http://kenyalaw.org/caselaw/cases/export/12743...  "
      ]
     },
     "execution_count": 85,
     "metadata": {},
     "output_type": "execute_result"
    }
   ],
   "source": [
    "df[df.case_number == 'Judicial Review 92 of 2011']"
   ]
  },
  {
   "cell_type": "code",
   "execution_count": 86,
   "metadata": {},
   "outputs": [
    {
     "ename": "KeyError",
     "evalue": "'Judicial Review 92 of 2011'",
     "output_type": "error",
     "traceback": [
      "\u001b[0;31m---------------------------------------------------------------------------\u001b[0m",
      "\u001b[0;31mKeyError\u001b[0m                                  Traceback (most recent call last)",
      "File \u001b[0;32m~/Class/CSI/csi/lib/python3.11/site-packages/pandas/core/indexes/base.py:3805\u001b[0m, in \u001b[0;36mIndex.get_loc\u001b[0;34m(self, key)\u001b[0m\n\u001b[1;32m   3804\u001b[0m \u001b[38;5;28;01mtry\u001b[39;00m:\n\u001b[0;32m-> 3805\u001b[0m     \u001b[38;5;28;01mreturn\u001b[39;00m \u001b[38;5;28;43mself\u001b[39;49m\u001b[38;5;241;43m.\u001b[39;49m\u001b[43m_engine\u001b[49m\u001b[38;5;241;43m.\u001b[39;49m\u001b[43mget_loc\u001b[49m\u001b[43m(\u001b[49m\u001b[43mcasted_key\u001b[49m\u001b[43m)\u001b[49m\n\u001b[1;32m   3806\u001b[0m \u001b[38;5;28;01mexcept\u001b[39;00m \u001b[38;5;167;01mKeyError\u001b[39;00m \u001b[38;5;28;01mas\u001b[39;00m err:\n",
      "File \u001b[0;32mindex.pyx:167\u001b[0m, in \u001b[0;36mpandas._libs.index.IndexEngine.get_loc\u001b[0;34m()\u001b[0m\n",
      "File \u001b[0;32mindex.pyx:196\u001b[0m, in \u001b[0;36mpandas._libs.index.IndexEngine.get_loc\u001b[0;34m()\u001b[0m\n",
      "File \u001b[0;32mpandas/_libs/hashtable_class_helper.pxi:7081\u001b[0m, in \u001b[0;36mpandas._libs.hashtable.PyObjectHashTable.get_item\u001b[0;34m()\u001b[0m\n",
      "File \u001b[0;32mpandas/_libs/hashtable_class_helper.pxi:7089\u001b[0m, in \u001b[0;36mpandas._libs.hashtable.PyObjectHashTable.get_item\u001b[0;34m()\u001b[0m\n",
      "\u001b[0;31mKeyError\u001b[0m: 'Judicial Review 92 of 2011'",
      "\nThe above exception was the direct cause of the following exception:\n",
      "\u001b[0;31mKeyError\u001b[0m                                  Traceback (most recent call last)",
      "Cell \u001b[0;32mIn[86], line 1\u001b[0m\n\u001b[0;32m----> 1\u001b[0m \u001b[43ma\u001b[49m\u001b[43m[\u001b[49m\u001b[38;5;124;43m'\u001b[39;49m\u001b[38;5;124;43mJudicial Review 92 of 2011\u001b[39;49m\u001b[38;5;124;43m'\u001b[39;49m\u001b[43m]\u001b[49m\n",
      "File \u001b[0;32m~/Class/CSI/csi/lib/python3.11/site-packages/pandas/core/series.py:1112\u001b[0m, in \u001b[0;36mSeries.__getitem__\u001b[0;34m(self, key)\u001b[0m\n\u001b[1;32m   1109\u001b[0m     \u001b[38;5;28;01mreturn\u001b[39;00m \u001b[38;5;28mself\u001b[39m\u001b[38;5;241m.\u001b[39m_values[key]\n\u001b[1;32m   1111\u001b[0m \u001b[38;5;28;01melif\u001b[39;00m key_is_scalar:\n\u001b[0;32m-> 1112\u001b[0m     \u001b[38;5;28;01mreturn\u001b[39;00m \u001b[38;5;28;43mself\u001b[39;49m\u001b[38;5;241;43m.\u001b[39;49m\u001b[43m_get_value\u001b[49m\u001b[43m(\u001b[49m\u001b[43mkey\u001b[49m\u001b[43m)\u001b[49m\n\u001b[1;32m   1114\u001b[0m \u001b[38;5;66;03m# Convert generator to list before going through hashable part\u001b[39;00m\n\u001b[1;32m   1115\u001b[0m \u001b[38;5;66;03m# (We will iterate through the generator there to check for slices)\u001b[39;00m\n\u001b[1;32m   1116\u001b[0m \u001b[38;5;28;01mif\u001b[39;00m is_iterator(key):\n",
      "File \u001b[0;32m~/Class/CSI/csi/lib/python3.11/site-packages/pandas/core/series.py:1228\u001b[0m, in \u001b[0;36mSeries._get_value\u001b[0;34m(self, label, takeable)\u001b[0m\n\u001b[1;32m   1225\u001b[0m     \u001b[38;5;28;01mreturn\u001b[39;00m \u001b[38;5;28mself\u001b[39m\u001b[38;5;241m.\u001b[39m_values[label]\n\u001b[1;32m   1227\u001b[0m \u001b[38;5;66;03m# Similar to Index.get_value, but we do not fall back to positional\u001b[39;00m\n\u001b[0;32m-> 1228\u001b[0m loc \u001b[38;5;241m=\u001b[39m \u001b[38;5;28;43mself\u001b[39;49m\u001b[38;5;241;43m.\u001b[39;49m\u001b[43mindex\u001b[49m\u001b[38;5;241;43m.\u001b[39;49m\u001b[43mget_loc\u001b[49m\u001b[43m(\u001b[49m\u001b[43mlabel\u001b[49m\u001b[43m)\u001b[49m\n\u001b[1;32m   1230\u001b[0m \u001b[38;5;28;01mif\u001b[39;00m is_integer(loc):\n\u001b[1;32m   1231\u001b[0m     \u001b[38;5;28;01mreturn\u001b[39;00m \u001b[38;5;28mself\u001b[39m\u001b[38;5;241m.\u001b[39m_values[loc]\n",
      "File \u001b[0;32m~/Class/CSI/csi/lib/python3.11/site-packages/pandas/core/indexes/base.py:3812\u001b[0m, in \u001b[0;36mIndex.get_loc\u001b[0;34m(self, key)\u001b[0m\n\u001b[1;32m   3807\u001b[0m     \u001b[38;5;28;01mif\u001b[39;00m \u001b[38;5;28misinstance\u001b[39m(casted_key, \u001b[38;5;28mslice\u001b[39m) \u001b[38;5;129;01mor\u001b[39;00m (\n\u001b[1;32m   3808\u001b[0m         \u001b[38;5;28misinstance\u001b[39m(casted_key, abc\u001b[38;5;241m.\u001b[39mIterable)\n\u001b[1;32m   3809\u001b[0m         \u001b[38;5;129;01mand\u001b[39;00m \u001b[38;5;28many\u001b[39m(\u001b[38;5;28misinstance\u001b[39m(x, \u001b[38;5;28mslice\u001b[39m) \u001b[38;5;28;01mfor\u001b[39;00m x \u001b[38;5;129;01min\u001b[39;00m casted_key)\n\u001b[1;32m   3810\u001b[0m     ):\n\u001b[1;32m   3811\u001b[0m         \u001b[38;5;28;01mraise\u001b[39;00m InvalidIndexError(key)\n\u001b[0;32m-> 3812\u001b[0m     \u001b[38;5;28;01mraise\u001b[39;00m \u001b[38;5;167;01mKeyError\u001b[39;00m(key) \u001b[38;5;28;01mfrom\u001b[39;00m \u001b[38;5;21;01merr\u001b[39;00m\n\u001b[1;32m   3813\u001b[0m \u001b[38;5;28;01mexcept\u001b[39;00m \u001b[38;5;167;01mTypeError\u001b[39;00m:\n\u001b[1;32m   3814\u001b[0m     \u001b[38;5;66;03m# If we have a listlike key, _check_indexing_error will raise\u001b[39;00m\n\u001b[1;32m   3815\u001b[0m     \u001b[38;5;66;03m#  InvalidIndexError. Otherwise we fall through and re-raise\u001b[39;00m\n\u001b[1;32m   3816\u001b[0m     \u001b[38;5;66;03m#  the TypeError.\u001b[39;00m\n\u001b[1;32m   3817\u001b[0m     \u001b[38;5;28mself\u001b[39m\u001b[38;5;241m.\u001b[39m_check_indexing_error(key)\n",
      "\u001b[0;31mKeyError\u001b[0m: 'Judicial Review 92 of 2011'"
     ]
    }
   ],
   "source": [
    "# a['Judicial Review 92 of 2011']"
   ]
  },
  {
   "cell_type": "code",
   "execution_count": 8,
   "metadata": {},
   "outputs": [
    {
     "name": "stdout",
     "output_type": "stream",
     "text": [
      "<!DOCTYPE html PUBLIC \"-//W3C//DTD HTML 4.01//EN\" \"http://www.w3.org/TR/html4/strict.dtd\">\n",
      "<html ng-app=\"solrAdminApp\" ng-csp>\n",
      "<!--\n",
      "Licensed to the Apache Software Foundation (ASF) under one or more\n",
      "contributor license agreements.  See the NOTICE file distributed with\n",
      "this work for additional information regarding copyright ownership.\n",
      "The ASF licenses this file to You under the Apache License, Version 2.0\n",
      "(the \"License\"); you may not use this file except in compliance with\n",
      "the License.  You may obtain a copy of the License at\n",
      "\n",
      "http://www.apache.org/licenses/LICENSE-2.0\n",
      "\n",
      "Unless required by applicable law or agreed to in writing, software\n",
      "distributed under the License is distributed on an \"AS IS\" BASIS,\n",
      "WITHOUT WARRANTIES OR CONDITIONS OF ANY KIND, either express or implied.\n",
      "See the License for the specific language governing permissions and\n",
      "limitations under the License.\n",
      "-->\n",
      "\n",
      "<head>\n",
      "  <title>Solr Admin</title>\n",
      "\n",
      "  <link rel=\"icon\" type=\"image/x-icon\" href=\"img/favicon.ico?_=9.5.0\">\n",
      "  <link rel=\"shortcut icon\" type=\"image/x-icon\" href=\"img/favicon.ico?_=9.5.0\">\n",
      "\n",
      "  <link rel=\"stylesheet\" type=\"text/css\" href=\"css/angular/angular-csp.css?_=9.5.0\">\n",
      "  <link rel=\"stylesheet\" type=\"text/css\" href=\"css/angular/common.css?_=9.5.0\">\n",
      "  <link rel=\"stylesheet\" type=\"text/css\" href=\"css/angular/analysis.css?_=9.5.0\">\n",
      "  <link rel=\"stylesheet\" type=\"text/css\" href=\"css/angular/schema-designer.css?_=9.5.0\">\n",
      "  <link rel=\"stylesheet\" type=\"text/css\" href=\"css/angular/security.css?_=9.5.0\">\n",
      "  <link rel=\"stylesheet\" type=\"text/css\" href=\"css/angular/cloud.css?_=9.5.0\">\n",
      "  <link rel=\"stylesheet\" type=\"text/css\" href=\"css/angular/cores.css?_=9.5.0\">\n",
      "  <link rel=\"stylesheet\" type=\"text/css\" href=\"css/angular/collections.css?_=9.5.0\">\n",
      "  <link rel=\"stylesheet\" type=\"text/css\" href=\"css/angular/dashboard.css?_=9.5.0\">\n",
      "  <link rel=\"stylesheet\" type=\"text/css\" href=\"css/angular/files.css?_=9.5.0\">\n",
      "  <link rel=\"stylesheet\" type=\"text/css\" href=\"css/angular/index.css?_=9.5.0\">\n",
      "  <link rel=\"stylesheet\" type=\"text/css\" href=\"css/angular/java-properties.css?_=9.5.0\">\n",
      "  <link rel=\"stylesheet\" type=\"text/css\" href=\"css/angular/logging.css?_=9.5.0\">\n",
      "  <link rel=\"stylesheet\" type=\"text/css\" href=\"css/angular/login.css?_=9.5.0\">\n",
      "  <link rel=\"stylesheet\" type=\"text/css\" href=\"css/angular/menu.css?_=9.5.0\">\n",
      "  <link rel=\"stylesheet\" type=\"text/css\" href=\"css/angular/plugins.css?_=9.5.0\">\n",
      "  <link rel=\"stylesheet\" type=\"text/css\" href=\"css/angular/documents.css?_=9.5.0\">\n",
      "  <link rel=\"stylesheet\" type=\"text/css\" href=\"css/angular/paramsets.css?_=9.5.0\">\n",
      "  <link rel=\"stylesheet\" type=\"text/css\" href=\"css/angular/query.css?_=9.5.0\">\n",
      "  <link rel=\"stylesheet\" type=\"text/css\" href=\"css/angular/stream.css?_=9.5.0\">\n",
      "  <link rel=\"stylesheet\" type=\"text/css\" href=\"css/angular/replication.css?_=9.5.0\">\n",
      "  <link rel=\"stylesheet\" type=\"text/css\" href=\"css/angular/schema.css?_=9.5.0\">\n",
      "  <link rel=\"stylesheet\" type=\"text/css\" href=\"css/angular/segments.css?_=9.5.0\">\n",
      "  <link rel=\"stylesheet\" type=\"text/css\" href=\"css/angular/threads.css?_=9.5.0\">\n",
      "  <link rel=\"stylesheet\" type=\"text/css\" href=\"css/angular/chosen.css?_=9.5.0\">\n",
      "  <link rel=\"stylesheet\" type=\"text/css\" href=\"css/angular/overview.css?_=9.5.0\">\n",
      "  <link rel=\"stylesheet\" type=\"text/css\" href=\"css/angular/sqlquery.css?_=9.5.0\">\n",
      "  <link rel=\"stylesheet\" type=\"text/css\" href=\"css/angular/ui-grid.min.css?_=9.5.0\">\n",
      "  <link rel=\"stylesheet\" type=\"text/css\" href=\"css/angular/jquery-ui.min.css?_=9.5.0\">\n",
      "  <link rel=\"stylesheet\" type=\"text/css\" href=\"css/angular/jquery-ui.structure.min.css?_=9.5.0\">\n",
      "  <link rel=\"stylesheet\" type=\"text/css\" href=\"css/angular/jstree.style.min.css?_=9.5.0\">\n",
      "\n",
      "  <meta http-equiv=\"x-ua-compatible\" content=\"IE=9\">\n",
      "  <script src=\"libs/jquery-3.5.1.min.js?_=9.5.0\"></script>\n",
      "  <script src=\"libs/chosen.jquery.min.js?_=9.5.0\"></script>\n",
      "  <script src=\"libs/jstree.min.js?_=9.5.0\"></script>\n",
      "  <script src=\"libs/angular.min.js?_=9.5.0\"></script>\n",
      "  <script src=\"libs/angular-chosen.min.js?_=9.5.0\"></script>\n",
      "  <script src=\"libs/angular-resource.min.js?_=9.5.0\"></script>\n",
      "  <script src=\"libs/angular-route.min.js?_=9.5.0\"></script>\n",
      "  <script src=\"libs/angular-cookies.min.js?_=9.5.0\"></script>\n",
      "  <script src=\"libs/ngtimeago.js?_=9.5.0\"></script>\n",
      "  <script src=\"libs/highlight.js?_=9.5.0\"></script>\n",
      "  <script src=\"libs/d3.js?_=9.5.0\"></script>\n",
      "  <script src=\"libs/ui-grid.min.js?_=9.5.0\"></script>\n",
      "  <script src=\"libs/solr/index.js\"></script>\n",
      "  <script src=\"libs/jquery-ui.min.js?_=9.5.0\"></script>\n",
      "  <script src=\"libs/angular-utf8-base64.min.js?_=9.5.0\"></script>\n",
      "  <script src=\"libs/jssha-3.3.1-sha256.min.js?_=9.5.0\"></script>\n",
      "  <script src=\"js/angular/app.js?_=9.5.0\"></script>\n",
      "  <script src=\"js/angular/services.js?_=9.5.0\"></script>\n",
      "  <script src=\"js/angular/permissions.js?_=9.5.0\"></script>\n",
      "  <script src=\"js/angular/controllers/index.js?_=9.5.0\"></script>\n",
      "  <script src=\"js/angular/controllers/login.js?_=9.5.0\"></script>\n",
      "  <script src=\"js/angular/controllers/logging.js?_=9.5.0\"></script>\n",
      "  <script src=\"js/angular/controllers/cloud.js?_=9.5.0\"></script>\n",
      "  <script src=\"js/angular/controllers/collections.js?_=9.5.0\"></script>\n",
      "  <script src=\"js/angular/controllers/cores.js?_=9.5.0\"></script>\n",
      "  <script src=\"js/angular/controllers/threads.js?_=9.5.0\"></script>\n",
      "  <script src=\"js/angular/controllers/java-properties.js?_=9.5.0\"></script>\n",
      "  <script src=\"js/angular/controllers/alias-overview.js?_=9.5.0\"></script>\n",
      "  <script src=\"js/angular/controllers/core-overview.js?_=9.5.0\"></script>\n",
      "  <script src=\"js/angular/controllers/collection-overview.js?_=9.5.0\"></script>\n",
      "  <script src=\"js/angular/controllers/analysis.js?_=9.5.0\"></script>\n",
      "  <script src=\"js/angular/controllers/documents.js?_=9.5.0\"></script>\n",
      "  <script src=\"js/angular/controllers/paramsets.js?_=9.5.0\"></script>\n",
      "  <script src=\"js/angular/controllers/files.js?_=9.5.0\"></script>\n",
      "  <script src=\"js/angular/controllers/query.js?_=9.5.0\"></script>\n",
      "  <script src=\"js/angular/controllers/stream.js?_=9.5.0\"></script>\n",
      "  <script src=\"js/angular/controllers/plugins.js?_=9.5.0\"></script>\n",
      "  <script src=\"js/angular/controllers/replication.js?_=9.5.0\"></script>\n",
      "  <script src=\"js/angular/controllers/schema.js?_=9.5.0\"></script>\n",
      "  <script src=\"js/angular/controllers/schema-designer.js?_=9.5.0\"></script>\n",
      "  <script src=\"js/angular/controllers/security.js?_=9.5.0\"></script>\n",
      "  <script src=\"js/angular/controllers/segments.js?_=9.5.0\"></script>\n",
      "  <script src=\"js/angular/controllers/unknown.js?_=9.5.0\"></script>\n",
      "  <script src=\"js/angular/controllers/sqlquery.js?_=9.5.0\"></script>\n",
      "\n",
      "\n",
      "</head>\n",
      "<body ng-controller=\"MainController\">\n",
      "\n",
      "  <div id=\"wrapper\" scrollable-when-small>\n",
      "\n",
      "    <div id=\"header\">\n",
      "\n",
      "      <a href=\"#/\" id=\"solr\"><span>Apache SOLR</span></a>\n",
      "\n",
      "    </div>\n",
      "\n",
      "    <div id=\"main\" class=\"clearfix\">\n",
      "\n",
      "      <div class=\"header-message\" id=\"init-failures\" ng-show=\"showInitFailures\" ng-cloak>\n",
      "\n",
      "          <h2>SolrCore Initialization Failures</h2>\n",
      "          <ul>\n",
      "              <li ng-repeat=\"(core,error) in initFailures\"><strong>{{core}}:</strong> {{error}}</li>\n",
      "          </ul>\n",
      "          <p>Please check your logs for more information</p>\n",
      "\n",
      "      </div>\n",
      "\n",
      "      <div class=\"header-message\" id=\"authz-failures\" ng-show=\"showAuthzFailures\" ng-cloak>\n",
      "\n",
      "        <h2>Permission failure</h2>\n",
      "        <p>Your user does not have the necessary role(s) to perform this action.</p>\n",
      "\n",
      "      </div>\n",
      "\n",
      "      <div id=\"loading\" class=\"loader universal-loader\" loading-status-message>&nbsp;</div>\n",
      "\n",
      "      <div id=\"connection-box\" connection-message>\n",
      "        <div id=\"connection-status-modal\">\n",
      "        </div>\n",
      "\n",
      "        <div class=\"connection-status header-message\">\n",
      "          <h2>Connection to Solr lost</h2>\n",
      "          <p>Please check the Solr instance.</p>\n",
      "        </div>\n",
      "        <div class=\"connection-status header-message\" id=\"connection-status-recovered\"  ng-show=\"connectionRecovered\">\n",
      "          <h2>Connection recovered...</h2>\n",
      "          <p>Continuing to load data...</p>\n",
      "        </div>\n",
      "      </div>\n",
      "      <div id=\"http-exception\" class=\"header-message\" ng-repeat=\"(url, exception) in exceptions\" ng-cloak>\n",
      "        <div class=\"exception\">{{exception.msg}}</div>\n",
      "      </div>\n",
      "\n",
      "      <div id=\"content-wrapper\">\n",
      "        <div ng-view id=\"content\">\n",
      "\n",
      "        </div>\n",
      "      </div>\n",
      "\n",
      "      <div id=\"menu-wrapper\">\n",
      "        <div>\n",
      "\n",
      "          <ul id=\"menu\">\n",
      "            <li id=\"environment\" ng-class=\"environment\" ng-show=\"showEnvironment\" ng-style=\"environment_color !== undefined ? {'background-color': environment_color} : ''\">{{ environment_label }}</li>\n",
      "\n",
      "            <li id=\"login\" class=\"global\" ng-class=\"{active:page=='login'}\" ng-show=\"http401 || currentUser\"><p><a href=\"#/login\">{{http401 ? \"Login\" : \"Logout \" + currentUser}}</a></p></li>\n",
      "\n",
      "            <li id=\"index\" class=\"global\" ng-class=\"{active:page=='index'}\"><p><a href=\"#/\">Dashboard</a></p></li>\n",
      "\n",
      "            <div ng-show=\"!http401\">\n",
      "              <li id=\"logging\" class=\"global\" ng-class=\"{active:page=='logging'}\"><p><a href=\"#/~logging\">Logging</a></p>\n",
      "                <ul ng-show=\"showingLogging\">\n",
      "                  <li class=\"level\" ng-class=\"{active:page=='logging-levels'}\"><a href=\"#/~logging/level\">Level</a></li>\n",
      "                </ul>\n",
      "              </li>\n",
      "\n",
      "              <li id=\"security\" class=\"global\" ng-class=\"{active:page=='security'}\"><p><a href=\"#/~security\">Security</a></p></li>\n",
      "\n",
      "              <li id=\"cloud\" class=\"global optional\" ng-show=\"isCloudEnabled\" ng-class=\"{active:showingCloud}\"><p><a href=\"#/~cloud\">Cloud</a></p>\n",
      "                <ul ng-show=\"showingCloud\">\n",
      "                  <li class=\"nodes\" ng-class=\"{active:page=='cloud-nodes'}\"><a href=\"#/~cloud?view=nodes\">Nodes</a></li>\n",
      "                  <li class=\"tree\" ng-class=\"{active:page=='cloud-tree'}\"><a href=\"#/~cloud?view=tree\">Tree</a></li>\n",
      "                  <li class=\"zkstatus\" ng-class=\"{active:page=='cloud-zkstatus'}\"><a href=\"#/~cloud?view=zkstatus\">ZK Status</a></li>\n",
      "                  <li class=\"graph\" ng-class=\"{active:page=='cloud-graph'}\"><a href=\"#/~cloud?view=graph\">Graph</a></li>\n",
      "                </ul>\n",
      "              </li>\n",
      "\n",
      "              <li ng-show=\"isCloudEnabled && isSchemaDesignerEnabled\" id=\"schema-designer\" class=\"global\" ng-class=\"{active:page=='schema-designer'}\"><p><a href=\"#/~schema-designer\">Schema Designer</a></p></li>\n",
      "\n",
      "              <li ng-show=\"isCloudEnabled\" id=\"collections\" class=\"global\" ng-class=\"{active:page=='collections'}\"><p><a href=\"#/~collections\">Collections</a></p></li>\n",
      "              <li ng-hide=\"isCloudEnabled\" id=\"cores\" class=\"global\" ng-class=\"{active:page=='cores'}\"><p><a href=\"#/~cores\">Core Admin</a></p></li>\n",
      "\n",
      "              <li id=\"java-properties\" class=\"global\" ng-class=\"{active:page=='java-props'}\"><p><a href=\"#/~java-properties\">Java Properties</a></li>\n",
      "\n",
      "              <li id=\"threads\" class=\"global\" ng-class=\"{active:page=='threads'}\"><p><a href=\"#/~threads\">Thread Dump</a></p></li>\n",
      "            </div>\n",
      "          </ul>\n",
      "\n",
      "          <div ng-show=\"!http401\">\n",
      "            <div id=\"collection-selector\" ng-show=\"isCloudEnabled\">\n",
      "              <div id=\"has-collections\" ng-show=\"collections.length!=0\">\n",
      "                <select placeholder-text-single=\"'Collection Selector'\"\n",
      "                        ng-model=\"currentCollection\"\n",
      "                        chosen\n",
      "                        ng-change=\"showCollection(currentCollection)\"\n",
      "                        ng-options=\"collection.name for collection in aliases_and_collections\"></select>\n",
      "              </div>\n",
      "              <p id=\"has-no-collections\" ng-show=\"collections.length==0\"><a href=\"#/~collections\">\n",
      "                No collections available\n",
      "                <span>Go and create one</span>\n",
      "              </a></p>\n",
      "            </div>\n",
      "            <div id=\"collection-menu\" class=\"sub-menu\" ng-show=\"currentCollection\">\n",
      "              <ul>\n",
      "                <li class=\"overview\" ng-show=\"currentCollection.type === 'collection'\" ng-class=\"{active:page=='collection-overview'}\"><a href=\"#/{{currentCollection.name}}/collection-overview\"><span>Overview</span></a></li>\n",
      "                <li class=\"overview\" ng-show=\"currentCollection.type === 'alias'\" ng-class=\"{active:page=='alias-overview'}\"><a href=\"#/{{currentCollection.name}}/alias-overview\"><span>Overview</span></a></li>\n",
      "                <li class=\"analysis\" ng-show=\"!isMultiDestAlias(currentCollection)\" ng-class=\"{active:page=='analysis'}\"><a href=\"#/{{currentCollection.name}}/analysis\"><span>Analysis</span></a></li>\n",
      "                <li class=\"documents\" ng-show=\"!isMultiDestAlias(currentCollection)\" ng-class=\"{active:page=='documents'}\"><a href=\"#/{{currentCollection.name}}/documents\"><span>Documents</span></a></li>\n",
      "                <li class=\"paramsets\" ng-show=\"!isMultiDestAlias(currentCollection)\" ng-class=\"{active:page=='paramsets'}\"><a href=\"#/{{currentCollection.name}}/paramsets\"><span>Paramsets</span></a></li>\n",
      "                <li class=\"files\" ng-show=\"!isMultiDestAlias(currentCollection)\" ng-class=\"{active:page=='files'}\"><a href=\"#/{{currentCollection.name}}/files\"><span>Files</span></a></li>\n",
      "                <li class=\"query\" ng-class=\"{active:page=='query'}\"><a href=\"#/{{currentCollection.name}}/query\"><span>Query</span></a></li>\n",
      "                <li class=\"stream\" ng-class=\"{active:page=='stream'}\"><a href=\"#/{{currentCollection.name}}/stream\"><span>Stream</span></a></li>\n",
      "                <li class=\"sqlquery\" ng-class=\"{active:page=='sqlquery'}\"><a href=\"#/{{currentCollection.name}}/sqlquery\"><span>SQL</span></a></li>\n",
      "                <li class=\"schema\" ng-show=\"!isMultiDestAlias(currentCollection)\" ng-class=\"{active:page=='schema'}\"><a href=\"#/{{currentCollection.name}}/schema\"><span>Schema</span></a></li>\n",
      "              </ul>\n",
      "            </div>\n",
      "            <div id=\"core-selector\">\n",
      "              <div id=\"has-cores\" ng-show=\"cores.length!=0\">\n",
      "                <select placeholder-text-single=\"'Core Selector'\"\n",
      "                        ng-model=\"currentCore\"\n",
      "                        chosen\n",
      "                        ng-change=\"showCore(currentCore)\"\n",
      "                        ng-options=\"core.name for core in cores\"></select>\n",
      "              </div>\n",
      "              <p id=\"has-no-cores\" ng-show=\"cores.length==0\"><a href=\"#/~cores\">\n",
      "                No cores available\n",
      "                <span>Go and create one</span>\n",
      "              </a></p>\n",
      "            </div>\n",
      "            <div id=\"core-menu\" class=\"sub-menu\" ng-show=\"currentCore\">\n",
      "              <ul>\n",
      "                <li class=\"overview\" ng-class=\"{active:page=='overview'}\"><a href=\"#/{{currentCore.name}}/core-overview\"><span>Overview</span></a></li>\n",
      "                <li ng-hide=\"isCloudEnabled\" class=\"analysis\" ng-class=\"{active:page=='analysis'}\"><a href=\"#/{{currentCore.name}}/analysis\"><span>Analysis</span></a></li>\n",
      "                <li ng-hide=\"isCloudEnabled\" class=\"documents\" ng-class=\"{active:page=='documents'}\"><a href=\"#/{{currentCore.name}}/documents\"><span>Documents</span></a></li>\n",
      "                <li ng-hide=\"isCloudEnabled\" class=\"paramsets\" ng-class=\"{active:page=='paramsets'}\"><a href=\"#/{{currentCore.name}}/paramsets\"><span>Paramsets</span></a></li>\n",
      "                <li ng-hide=\"isCloudEnabled\" class=\"files\" ng-class=\"{active:page=='files'}\"><a href=\"#/{{currentCore.name}}/files\"><span>Files</span></a></li>\n",
      "                <li class=\"ping\" ng-class=\"{active:page=='ping'}\"><a ng-click=\"ping()\"><span>Ping</span><small class=\"qtime\" ng-show=\"showPing\"> (<span>{{pingMS}}ms</span>)</small></a></li>\n",
      "                <li class=\"plugins\" ng-class=\"{active:page=='plugins'}\"><a href=\"#/{{currentCore.name}}/plugins\"><span>Plugins / Stats</span></a></li>\n",
      "                <li ng-hide=\"isCloudEnabled\" class=\"query\" ng-class=\"{active:page=='query'}\"><a href=\"#/{{currentCore.name}}/query\"><span>Query</span></a></li>\n",
      "                <li ng-hide=\"isCloudEnabled\" class=\"replication\" ng-class=\"{active:page=='replication'}\"><a href=\"#/{{currentCore.name}}/replication\"><span>Replication</span></a></li>\n",
      "                <li ng-hide=\"isCloudEnabled\" class=\"schema\" ng-class=\"{active:page=='schema'}\"><a href=\"#/{{currentCore.name}}/schema\"><span>Schema</span></a></li>\n",
      "                <li class=\"segments\" ng-class=\"{active:page=='segments'}\"><a href=\"#/{{currentCore.name}}/segments\"><span>Segments info</span></a></li>\n",
      "              </ul>\n",
      "            </div>\n",
      "          </div>\n",
      "        </div>\n",
      "      </div>\n",
      "\n",
      "      <div id=\"meta\">\n",
      "\n",
      "        <ul>\n",
      "\n",
      "          <li class=\"documentation\"><a href=\"https://solr.apache.org/guide/solr/latest/\" target=\"_blank\"><span>Documentation</span></a></li>\n",
      "          <li class=\"query-syntax\"><a href=\"https://solr.apache.org/guide/solr/latest/query-guide/query-syntax-and-parsers.html\" target=\"_blank\"><span>Solr Query Syntax</span></a></li>\n",
      "          <li class=\"community\"><a href=\"https://solr.apache.org/community.html\" target=\"_blank\"><span>Community</span></a></li>\n",
      "          <li class=\"issues\"><a href=\"https://issues.apache.org/jira/browse/SOLR\" target=\"_blank\"><span>Issue Tracker</span></a></li>\n",
      "          <li class=\"chat\"><a href=\"https://s.apache.org/solr-slack\" target=\"_blank\"><span>Slack</span></a></li>\n",
      "          <li class=\"chat\"><a href=\"https://web.libera.chat/?channels=#solr\" target=\"_blank\"><span>IRC</span></a></li>\n",
      "\n",
      "        </ul>\n",
      "\n",
      "      </div>\n",
      "\n",
      "    </div>\n",
      "\n",
      "  </div>\n",
      "\n",
      "</body>\n",
      "</html>\n",
      "\n",
      "<<<< RESULTS >>>>\n",
      "Error: Expecting value: line 1 column 1 (char 0)\n"
     ]
    }
   ],
   "source": [
    "import requests\n",
    "\n",
    "def count_objects_in_json(url):\n",
    "    try:\n",
    "        # Send GET request\n",
    "        response = requests.get(url)\n",
    "        print(response.text)\n",
    "        \n",
    "        # Check if request was successful (status code 200)\n",
    "        if response.status_code == 200:\n",
    "            print('<<<< RESULTS >>>>')\n",
    "            # Parse JSON response\n",
    "            json_data = response.json()\n",
    "            \n",
    "            # Count number of objects in JSON\n",
    "            num_objects = len(json_data)\n",
    "            \n",
    "            return num_objects\n",
    "        else:\n",
    "            print(\"Error: Failed to retrieve data. Status code:\", response.status_code)\n",
    "            return None\n",
    "    except Exception as e:\n",
    "        print(\"Error:\", e)\n",
    "        return None\n",
    "\n",
    "# Example usage:\n",
    "url = \"http://localhost:8983/solr/#/films/query?q=*:*&q.op=OR&indent=true&useParams=\"  # Example URL with JSON data\n",
    "num_objects = count_objects_in_json(url)\n",
    "\n",
    "if num_objects is not None:\n",
    "    print(\"Number of objects in JSON:\", num_objects)\n"
   ]
  },
  {
   "cell_type": "code",
   "execution_count": null,
   "metadata": {},
   "outputs": [],
   "source": []
  }
 ],
 "metadata": {
  "kernelspec": {
   "display_name": "csi",
   "language": "python",
   "name": "python3"
  },
  "language_info": {
   "codemirror_mode": {
    "name": "ipython",
    "version": 3
   },
   "file_extension": ".py",
   "mimetype": "text/x-python",
   "name": "python",
   "nbconvert_exporter": "python",
   "pygments_lexer": "ipython3",
   "version": "3.11.6"
  }
 },
 "nbformat": 4,
 "nbformat_minor": 2
}
